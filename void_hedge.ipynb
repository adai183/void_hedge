{
 "cells": [
  {
   "cell_type": "markdown",
   "metadata": {},
   "source": [
    "# VOID HEDGE\n",
    "\n",
    ">**Note:** Code and Markdown cells can be executed using the **Shift + Enter** keyboard shortcut. In addition, Markdown cells can be edited by typically double-clicking the cell to enter edit mode."
   ]
  },
  {
   "cell_type": "markdown",
   "metadata": {},
   "source": [
    "Execute the cell below to load all necessary python packages and defines some helper functions"
   ]
  },
  {
   "cell_type": "code",
   "execution_count": 1,
   "metadata": {
    "collapsed": false
   },
   "outputs": [],
   "source": [
    "import urllib2\n",
    "import urllib\n",
    "import datetime\n",
    "import os\n",
    "import pandas as pd\n",
    "import matplotlib.pyplot as plt\n",
    "from tqdm import tqdm\n",
    "\n",
    "%matplotlib inline\n",
    "\n",
    "def read_symbols(s_symbols_file):\n",
    "    '''Read a list of symbols'''\n",
    "    ls_symbols = []\n",
    "    ffile = open(s_symbols_file, 'r')\n",
    "    for line in ffile.readlines():\n",
    "        str_line = str(line)\n",
    "        if str_line.strip():\n",
    "            ls_symbols.append(str_line.strip())\n",
    "    ffile.close()\n",
    "    return ls_symbols\n"
   ]
  },
  {
   "cell_type": "markdown",
   "metadata": {},
   "source": [
    "# First steps: Get data from Yahoo and create time series Dataframe"
   ]
  },
  {
   "cell_type": "markdown",
   "metadata": {},
   "source": [
    "Execute the cell below to pull historical stock data from Yahoo Finance.\n",
    "By default we get data for all nasdaq stocks.\n",
    "You can find the list of stocks to get data for in `.data/Lists/nasdaq_all.txt`.\n",
    "If you want to work with a different list of stock symbols:\n",
    "1. Create a new txt file\n",
    "2. Modify the `symbolsPath` variable accordingly \n",
    "\n",
    "Be pacient. Downloading all the files may take a while :-)."
   ]
  },
  {
   "cell_type": "code",
   "execution_count": 10,
   "metadata": {
    "collapsed": false,
    "scrolled": true
   },
   "outputs": [
    {
     "name": "stderr",
     "output_type": "stream",
     "text": [
      "\r",
      "  0%|          | 0/3056 [00:00<?, ?it/s]"
     ]
    },
    {
     "name": "stdout",
     "output_type": "stream",
     "text": [
      "Fetching Data from Yahoo Finance. Be pacient ........\n"
     ]
    },
    {
     "name": "stderr",
     "output_type": "stream",
     "text": [
      "100%|██████████| 3056/3056 [13:53<00:00,  5.19it/s]"
     ]
    },
    {
     "name": "stdout",
     "output_type": "stream",
     "text": [
      "All done. Got 3056 stocks. Could not get 0\n"
     ]
    },
    {
     "name": "stderr",
     "output_type": "stream",
     "text": [
      "\n"
     ]
    },
    {
     "data": {
      "text/plain": [
       "[]"
      ]
     },
     "execution_count": 10,
     "metadata": {},
     "output_type": "execute_result"
    }
   ],
   "source": [
    "'''\n",
    "Pulling Yahoo CSV Data\n",
    "'''\n",
    "\n",
    "def get_yahoo_data(data_path, ls_symbols):\n",
    "    '''Read data from Yahoo\n",
    "    @data_path : string for where to place the output files\n",
    "    @ls_symbols: list of symbols to read from yahoo\n",
    "    '''\n",
    "    # Create path if it doesn't exist\n",
    "    if not (os.access(data_path, os.F_OK)):\n",
    "        os.makedirs(data_path)\n",
    "\n",
    "    ls_missed_syms = []\n",
    "    # utils.clean_paths(data_path)\n",
    "\n",
    "    _now = datetime.datetime.now()\n",
    "    # Counts how many symbols we could not get\n",
    "    miss_ctr = 0\n",
    "    for symbol in tqdm(ls_symbols):\n",
    "        # Preserve original symbol since it might\n",
    "        # get manipulated if it starts with a \"$\"\n",
    "        symbol_name = symbol\n",
    "        if symbol[0] == '$':\n",
    "            symbol = '^' + symbol[1:]\n",
    "\n",
    "        symbol_data = list()\n",
    "        # print \"Getting {0}\".format(symbol)\n",
    "\n",
    "        try:\n",
    "            params = urllib.urlencode ({'a':0, 'b':1, 'c':2000, 'd':_now.month-1, 'e':_now.day, 'f':_now.year, 's': symbol})\n",
    "            url = \"http://ichart.finance.yahoo.com/table.csv?%s\" % params\n",
    "            url_get = urllib2.urlopen(url)\n",
    "\n",
    "            header = url_get.readline()\n",
    "            symbol_data.append(url_get.readline())\n",
    "            while (len(symbol_data[-1]) > 0):\n",
    "                symbol_data.append(url_get.readline())\n",
    "\n",
    "            # The last element is going to be the string of length zero.\n",
    "            # We don't want to write that to file.\n",
    "            symbol_data.pop(-1)\n",
    "            # now writing data to file\n",
    "            f = open(data_path + symbol_name + \".csv\", 'w')\n",
    "\n",
    "            # Writing the header\n",
    "            f.write(header)\n",
    "\n",
    "            while (len(symbol_data) > 0):\n",
    "                f.write(symbol_data.pop(0))\n",
    "\n",
    "            f.close()\n",
    "\n",
    "        except urllib2.HTTPError:\n",
    "            miss_ctr += 1\n",
    "            ls_missed_syms.append(symbol_name)\n",
    "        except urllib2.URLError:\n",
    "            miss_ctr += 1\n",
    "            ls_missed_syms.append(symbol_name)\n",
    "            print \"URL Error for stock: {0} at {1}\".format(symbol_name, url)\n",
    "\n",
    "    print \"All done. Got {0} stocks. Could not get {1}\".format(len(ls_symbols) - miss_ctr, miss_ctr)\n",
    "    return ls_missed_syms\n",
    "\n",
    "\n",
    "# Path to a list containing stock symbols we want to fetch historic stock data\n",
    "symbolsPath ='data/Lists/nasdaq_all.txt'\n",
    "\n",
    "# this is where the csv files will be saved\n",
    "path='data/Yahoo/'\n",
    "\n",
    "# read symbols from list and fetch data from yahoo finance\n",
    "ls_symbols = read_symbols(symbolsPath)\n",
    "print 'Fetching Data from Yahoo Finance. Be pacient ........'\n",
    "get_yahoo_data(path, ls_symbols)\n",
    "\n"
   ]
  },
  {
   "cell_type": "markdown",
   "metadata": {},
   "source": [
    "In the following code cell we read historical stock data into a pandas time series dataframe. \n",
    "Reading in the data from the csv files may take a while. But after that things will speed up.\n",
    "Panda dataframes are really fast.\n",
    "\n",
    "Modify the `date` and `symbols` variables to your needs.\n",
    "\n",
    ">**Note:** We use the SPY symbol as reference to construct the data frame with the proper time series. SPY was traded since the 90ies. We use SPY as reference to drop dates from our dataframe where the stock market was closed."
   ]
  },
  {
   "cell_type": "code",
   "execution_count": 11,
   "metadata": {
    "collapsed": false
   },
   "outputs": [
    {
     "name": "stderr",
     "output_type": "stream",
     "text": [
      "100%|██████████| 3056/3056 [06:18<00:00,  4.35it/s]"
     ]
    },
    {
     "name": "stdout",
     "output_type": "stream",
     "text": [
      "All done.\n"
     ]
    },
    {
     "name": "stderr",
     "output_type": "stream",
     "text": [
      "\n"
     ]
    }
   ],
   "source": [
    "def symbol_to_path(symbol, base_dir='data/Yahoo'):\n",
    "    '''Return CSV file path given ticker symbol.'''\n",
    "    return os.path.join(base_dir, '{}.csv'.format(str(symbol)))\n",
    "\n",
    "\n",
    "def get_data(symbols, dates):\n",
    "    '''Read stock data (adjusted close) for given symbols from CSV files.'''\n",
    "    df = pd.DataFrame(index=dates)\n",
    "    if 'SPY' not in symbols:  # add SPY for reference, if absent\n",
    "        symbols.insert(0, 'SPY')\n",
    "\n",
    "    for symbol in tqdm(symbols):\n",
    "        # TODO: Read and join data for each symbol\n",
    "        if os.path.isfile(symbol_to_path(symbol)) :\n",
    "            df_temp = pd.read_csv(symbol_to_path(symbol), index_col = 'Date',\n",
    "                              parse_dates = True, usecols = ['Date','Adj Close'],\n",
    "                              na_values = ['nan'])\n",
    "            df_temp = df_temp.rename(columns = {'Adj Close':symbol})\n",
    "            df = df.join(df_temp)\n",
    "            if symbol == 'SPY': #drop dates when SPY did not trade\n",
    "        \t    df = df.dropna(subset=['SPY'])\n",
    "    # drop SPY column\n",
    "    #df = df = df.drop('SPY', 1)\n",
    "    print \"All done.\"\n",
    "    return df\n",
    "\n",
    "# Define a date range\n",
    "dates = pd.date_range('2016-01-01', '2016-12-30')\n",
    "\n",
    "# Choose stock symbols to read\n",
    "symbols = read_symbols('data/Lists/nasdaq_all.txt')\n",
    "\n",
    "# Get stock data\n",
    "df = get_data(symbols, dates)"
   ]
  },
  {
   "cell_type": "markdown",
   "metadata": {},
   "source": [
    "# Exploratory Analysis\n",
    "\n",
    "Now that we created our dataframe. Let's work with it."
   ]
  },
  {
   "cell_type": "code",
   "execution_count": 18,
   "metadata": {
    "collapsed": false
   },
   "outputs": [],
   "source": [
    "'''\n",
    "Uncomment some of the code below to see how to slice our data.\n",
    "'''\n",
    "\n",
    "# Slicing: row slicing for dates\n",
    "# print df.ix['2016-10-01':'2016-11-28' ]\n",
    "\n",
    "# Slicing: column slicing for symbols\n",
    "# print df[['MDSY', 'GOOGL']]\n",
    "# print df['GOOGL']\n",
    "    \n",
    "# Slicing: row and column\n",
    "# print df.ix['2016-11-01':'2016-11-28', ['MDSY', 'GOOGL'] ]"
   ]
  },
  {
   "cell_type": "markdown",
   "metadata": {},
   "source": [
    "Some helper functions you may want to use to explore the data. Feel free to add your own."
   ]
  },
  {
   "cell_type": "code",
   "execution_count": 11,
   "metadata": {
    "collapsed": true
   },
   "outputs": [],
   "source": [
    "def normalize_data(df):\n",
    "    \"\"\"Normalize stock prices using the first row of the dataframe.\"\"\"\n",
    "    return df / df.ix[0, :]\n",
    "\n",
    "\n",
    "def plot_data(df, title='Stock prices'):\n",
    "    '''Plot stock prices'''\n",
    "    ax = df.plot(title=title)\n",
    "    ax.set_xlabel('Date')\n",
    "    ax.set_ylabel('Price')\n",
    "    plt.show()\n",
    "\n",
    "def compute_daily_returns(df):\n",
    "    \"\"\"Compute and return the daily return values.\"\"\"\n",
    "    daily_returns = df.copy()  # copy given df to match size and column names\n",
    "    daily_returns = (df / df.shift(1)) - 1\n",
    "    daily_returns.ix[0, :] = 0  # set daily returns for row 0 to 0\n",
    "    return daily_returns\n",
    "\n",
    "\n",
    "def get_sharp_ratio(df):\n",
    "    \"\"\"Compute sharp ratio with a daily sample rate.\"\"\"\n",
    "    daily_returns = compute_daily_returns(df)\n",
    "    sharp_ratio = (daily_returns.mean() / daily_returns.std()) * np.sqrt(252)\n",
    "    return sharp_ratio\n",
    "\n",
    "\n",
    "def cumulative_returns(df):\n",
    "    cumulative_returns = df.copy()  # copy given df to match size and column names\n",
    "    return cumulative_returns / cumulative_returns.ix[0, :] - 1\n",
    "\n",
    "\n",
    "def fill_missing_values(df_data):\n",
    "    \"\"\"Fill missing values in data frame, in place.\"\"\"\n",
    "    df_data.fillna(method='ffill', inplace=True)\n",
    "    df_data.fillna(method='bfill', inplace=True)\n",
    "    return df_data"
   ]
  },
  {
   "cell_type": "markdown",
   "metadata": {},
   "source": [
    "# Indicators: Bollinger Bands\n",
    "\n",
    "check out the [wiki](https://en.wikipedia.org/wiki/Bollinger_Bands) for more info on Bollinger Bands\n",
    "\n",
    "At the end of the code we do a example visualization for Google stocks.\n",
    "You should probably set the pdf flag for the bollinger_viz function to true so you can save it as pdf. Visibility is pretty bad if you look at it in the browser."
   ]
  },
  {
   "cell_type": "code",
   "execution_count": 12,
   "metadata": {
    "collapsed": false
   },
   "outputs": [
    {
     "name": "stderr",
     "output_type": "stream",
     "text": [
      "/Users/andreasdaiminger/anaconda2/lib/python2.7/site-packages/ipykernel/__main__.py:3: FutureWarning: pd.rolling_mean is deprecated for Series and will be removed in a future version, replace with \n",
      "\tSeries.rolling(window=20,center=False).mean()\n",
      "  app.launch_new_instance()\n",
      "/Users/andreasdaiminger/anaconda2/lib/python2.7/site-packages/ipykernel/__main__.py:8: FutureWarning: pd.rolling_std is deprecated for Series and will be removed in a future version, replace with \n",
      "\tSeries.rolling(window=20,center=False).std()\n"
     ]
    },
    {
     "data": {
      "image/png": "[encoded data removed]",
      "text/plain": [
       "<matplotlib.figure.Figure at 0x114ccef50>"
      ]
     },
     "metadata": {},
     "output_type": "display_data"
    }
   ],
   "source": [
    "def get_rolling_mean(values, window):\n",
    "    \"\"\"Return rolling mean of given values, using specified window size.\"\"\"\n",
    "    return pd.rolling_mean(values, window=window)\n",
    "\n",
    "\n",
    "def get_rolling_std(values, window):\n",
    "    \"\"\"Return rolling standard deviation of given values, using specified window size.\"\"\"\n",
    "    return pd.rolling_std(values, window=window)\n",
    "\n",
    "\n",
    "def get_bollinger_bands(rm, rstd):\n",
    "    \"\"\"Return upper and lower Bollinger Bands.\"\"\"\n",
    "    upper_band = rm + rstd * 2\n",
    "    lower_band = rm - rstd * 2\n",
    "    return upper_band, lower_band\n",
    "\n",
    "\n",
    "\n",
    "def bollinger_viz(df, window=20, pdf=False):\n",
    "    \"\"\"Creates Visualization of Bollinger Bands\n",
    "       Set the pdf flag to true to save the viz as pdf\n",
    "    \"\"\"\n",
    "    \n",
    "    # Compute Bollinger Bands\n",
    "    \n",
    "    # 1. Compute rolling mean\n",
    "    rm = get_rolling_mean(df, window=window)\n",
    "\n",
    "    # 2. Compute rolling standard deviation\n",
    "    rstd = get_rolling_std(df, window=window)\n",
    "\n",
    "    # 3. Compute upper and lower bands\n",
    "    upper_band, lower_band = get_bollinger_bands(rm, rstd)\n",
    "\n",
    "    # Plot raw values, rolling mean and Bollinger Bands\n",
    "    ax = df.plot(title=\"Bollinger Bands\", label=df.name)\n",
    "    rm.plot(label='Rolling mean', ax=ax)\n",
    "    upper_band.plot(label='upper band', ax=ax)\n",
    "    lower_band.plot(label='lower band', ax=ax)\n",
    "\n",
    "    # mark specifix x-axis range\n",
    "    # ax.axvspan('2016-11-21', '2016-12-01', color='red', alpha=0.5)\n",
    "\n",
    "    # Add axis labels and legend\n",
    "    ax.set_xlabel(\"Date\")\n",
    "    ax.set_ylabel(\"Price\")\n",
    "    ax.legend(loc='upper left')\n",
    "\n",
    "    # Check wether to show the figure or save as pdf\n",
    "    if pdf:\n",
    "        plt.savefig('./information/Bollinger_crashers/' +\n",
    "                    df.name + '_bollinger_viz.pdf', format='pdf')\n",
    "        plt.close()\n",
    "    else:\n",
    "        plt.show()\n",
    "        \n",
    "bollinger_viz(df['GOOGL'], window=20)\n"
   ]
  },
  {
   "cell_type": "markdown",
   "metadata": {},
   "source": [
    "# Get all 2Sigma Bollinger Crashers\n",
    "In the code below we first get all bollinger crashers. That means all stocks that hit the lower bollinger band.\n",
    "These stocks differ at least 2x Standard deviation from their 20 day rolling mean. This can be seen as an indicator for a potential buy.\n",
    "If you like you can implement the same for stocks that crashed the upper bollinger band. They are potential stocks for shorting."
   ]
  },
  {
   "cell_type": "code",
   "execution_count": 13,
   "metadata": {
    "collapsed": false
   },
   "outputs": [
    {
     "name": "stderr",
     "output_type": "stream",
     "text": [
      "/Users/andreasdaiminger/anaconda2/lib/python2.7/site-packages/ipykernel/__main__.py:3: FutureWarning: pd.rolling_mean is deprecated for Series and will be removed in a future version, replace with \n",
      "\tSeries.rolling(window=20,center=False).mean()\n",
      "  app.launch_new_instance()\n",
      "/Users/andreasdaiminger/anaconda2/lib/python2.7/site-packages/ipykernel/__main__.py:8: FutureWarning: pd.rolling_std is deprecated for Series and will be removed in a future version, replace with \n",
      "\tSeries.rolling(window=20,center=False).std()\n"
     ]
    },
    {
     "name": "stdout",
     "output_type": "stream",
     "text": [
      "Bollinger Crashers:\n",
      "ACIA\n",
      "AXDX\n",
      "AEGN\n",
      "AGLE\n",
      "AGRX\n",
      "ALNY\n",
      "ANTH\n",
      "RKDA\n",
      "ASCMA\n",
      "BLRX\n",
      "BLBD\n",
      "BRID\n",
      "BVSN\n",
      "CEMP\n",
      "CETV\n",
      "CERU\n",
      "CHKE\n",
      "CNIT\n",
      "CHSCP\n",
      "CLNE\n",
      "CLIR\n",
      "CBLI\n",
      "CFRX\n",
      "CTRL\n",
      "CORT\n",
      "CORI\n",
      "DFRG\n",
      "TACO\n",
      "DMPI\n",
      "DXCM\n",
      "DFBG\n",
      "EVLMC\n",
      "EBIX\n",
      "LOCO\n",
      "EMITF\n",
      "ESBK\n",
      "ECYT\n",
      "ETRM\n",
      "FAST\n",
      "FATE\n",
      "GSM\n",
      "FMI\n",
      "FRPH\n",
      "FCEL\n",
      "GHDX\n",
      "GDEN\n",
      "HLG\n",
      "HRMNU\n",
      "HMNY\n",
      "HSON\n",
      "RXDX\n",
      "IDSA\n",
      "INNL\n",
      "ITEK\n",
      "NTLA\n",
      "STPP\n",
      "ITRI\n",
      "IVENC\n",
      "MAYS\n",
      "FSTR\n",
      "LAKE\n",
      "LVNTB\n",
      "MCUR\n",
      "MDGL\n",
      "MGIC\n",
      "MMYT\n",
      "MRVL\n",
      "MTBC\n",
      "MNOV\n",
      "NERV\n",
      "MRTX\n",
      "MOSY\n",
      "NK\n",
      "NEOS\n",
      "NTAP\n",
      "NWS\n",
      "NWSA\n",
      "OIIM\n",
      "ZEUS\n",
      "OPK\n",
      "PNRA\n",
      "FRSH\n",
      "PCYG\n",
      "PDVW\n",
      "PNTR\n",
      "PBPB\n",
      "PSIX\n",
      "PRAN\n",
      "PRIM\n",
      "BTEC\n",
      "PVBC\n",
      "PTCT\n",
      "ROST\n",
      "SNFCA\n",
      "SBNYW\n",
      "SIMO\n",
      "SPU\n",
      "SFM\n",
      "SSNC\n",
      "SBUX\n",
      "SSKN\n",
      "TTPH\n",
      "XONE\n",
      "TZOO\n",
      "VALU\n",
      "VRML\n",
      "VISN\n",
      "XOMA\n"
     ]
    }
   ],
   "source": [
    "def is_bollinger_crasher(df):\n",
    "    # Compute Bollinger Bands\n",
    "    # 1. Compute rolling mean\n",
    "    rm = get_rolling_mean(df, window=20)\n",
    "    # 2. Compute rolling standard deviation\n",
    "    rstd = get_rolling_std(df, window=20)\n",
    "\n",
    "    # 3. Compute upper and lower bands\n",
    "    upper_band, lower_band = get_bollinger_bands(rm, rstd)\n",
    "\n",
    "    if df.get_value(-1) < lower_band.get_value(-1):\n",
    "        return True\n",
    "    else:\n",
    "        return False\n",
    "    \n",
    "\n",
    "# get bollinger crashers\n",
    "crashers_list = []\n",
    "for symbol in df:\n",
    "    if is_bollinger_crasher(df[symbol]):\n",
    "        crashers_list.append(symbol)\n",
    "\n",
    "# print list of bollinger crasher and save visualization           \n",
    "print 'Bollinger Crashers:'\n",
    "for e in crashers_list:\n",
    "    bollinger_viz(df[e], window=20, pdf=True)\n",
    "    print e"
   ]
  },
  {
   "cell_type": "code",
   "execution_count": null,
   "metadata": {
    "collapsed": true
   },
   "outputs": [],
   "source": []
  }
 ],
 "metadata": {
  "anaconda-cloud": {},
  "kernelspec": {
   "display_name": "Python [conda root]",
   "language": "python",
   "name": "conda-root-py"
  },
  "language_info": {
   "codemirror_mode": {
    "name": "ipython",
    "version": 2
   },
   "file_extension": ".py",
   "mimetype": "text/x-python",
   "name": "python",
   "nbconvert_exporter": "python",
   "pygments_lexer": "ipython2",
   "version": "2.7.12"
  }
 },
 "nbformat": 4,
 "nbformat_minor": 0
}
